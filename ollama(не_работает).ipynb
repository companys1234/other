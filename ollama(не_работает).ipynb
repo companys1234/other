{
  "nbformat": 4,
  "nbformat_minor": 0,
  "metadata": {
    "colab": {
      "provenance": []
    },
    "kernelspec": {
      "name": "python3",
      "display_name": "Python 3"
    },
    "language_info": {
      "name": "python"
    }
  },
  "cells": [
    {
      "cell_type": "code",
      "execution_count": 1,
      "metadata": {
        "colab": {
          "base_uri": "https://localhost:8080/"
        },
        "id": "eGGhYAYS3pYB",
        "outputId": "374570ca-67a9-4798-ae45-355eb8c7a5b7"
      },
      "outputs": [
        {
          "output_type": "stream",
          "name": "stdout",
          "text": [
            "Reading package lists... Done\n",
            "Building dependency tree... Done\n",
            "Reading state information... Done\n",
            "curl is already the newest version (7.81.0-1ubuntu1.20).\n",
            "0 upgraded, 0 newly installed, 0 to remove and 35 not upgraded.\n",
            "curl: (22) The requested URL returned error: 404\n"
          ]
        }
      ],
      "source": [
        "!apt-get install -y curl\n",
        "!curl -sSfL https://ollama.com/download.sh | sh\n"
      ]
    },
    {
      "cell_type": "code",
      "source": [
        "!ollama run gemma3:1b"
      ],
      "metadata": {
        "colab": {
          "base_uri": "https://localhost:8080/"
        },
        "id": "wjG9Ctg7314P",
        "outputId": "f53d65e3-5a7b-48c5-f7ec-1ba126cb0fdf"
      },
      "execution_count": 2,
      "outputs": [
        {
          "output_type": "stream",
          "name": "stdout",
          "text": [
            "/bin/bash: line 1: ollama: command not found\n"
          ]
        }
      ]
    },
    {
      "cell_type": "code",
      "source": [
        "# Пример использования модели\n",
        "output = !ollama run <имя_модели> \"Ваш текст здесь\"\n",
        "print(output)\n"
      ],
      "metadata": {
        "id": "8QDSKcuW4XlY"
      },
      "execution_count": null,
      "outputs": []
    },
    {
      "cell_type": "code",
      "source": [
        "!killall ollama\n"
      ],
      "metadata": {
        "id": "INc3_cAz4ceN"
      },
      "execution_count": null,
      "outputs": []
    }
  ]
}