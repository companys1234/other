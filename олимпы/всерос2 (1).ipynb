{
  "nbformat": 4,
  "nbformat_minor": 0,
  "metadata": {
    "colab": {
      "provenance": []
    },
    "kernelspec": {
      "name": "python3",
      "display_name": "Python 3"
    },
    "language_info": {
      "name": "python"
    }
  },
  "cells": [
    {
      "cell_type": "code",
      "execution_count": null,
      "metadata": {
        "id": "Lr0n7TQSmxt5"
      },
      "outputs": [],
      "source": [
        "import sys\n",
        "import math\n",
        "from collections import defaultdict\n",
        "\n",
        "def main():\n",
        "    data = sys.stdin.read().split()\n",
        "    n = int(data[0])\n",
        "    keys = list(map(int, data[1:1+n]))\n",
        "    codes = list(map(int, data[1+n:1+2*n]))\n",
        "\n",
        "    by_key = defaultdict(list)\n",
        "    by_code = defaultdict(list)\n",
        "\n",
        "    for k, c in zip(keys, codes):\n",
        "        by_key[k].append(c)\n",
        "        by_code[c].append(k)\n",
        "\n",
        "    G = 0\n",
        "    B = 0\n",
        "    N = 0\n",
        "\n",
        "    # Count G and B by key\n",
        "    for k, c_list in by_key.items():\n",
        "        m = len(c_list)\n",
        "        if m < 2:\n",
        "            continue\n",
        "        total_pairs_k = m * (m - 1) // 2\n",
        "        freq = defaultdict(int)\n",
        "        for c in c_list:\n",
        "            freq[c] += 1\n",
        "        good = 0\n",
        "        for f in freq.values():\n",
        "            if f >= 2:\n",
        "                good += f * (f - 1) // 2\n",
        "        G += good\n",
        "        B += total_pairs_k - good\n",
        "\n",
        "    # Count N by code\n",
        "    for c, k_list in by_code.items():\n",
        "        m = len(k_list)\n",
        "        if m < 2:\n",
        "            continue\n",
        "        total_pairs_c = m * (m - 1) // 2\n",
        "        freq = defaultdict(int)\n",
        "        for k in k_list:\n",
        "            freq[k] += 1\n",
        "        good = 0\n",
        "        for f in freq.values():\n",
        "            if f >= 2:\n",
        "                good += f * (f - 1) // 2\n",
        "        # good here is same as G counted before, but we only need N\n",
        "        N += total_pairs_c - good\n",
        "\n",
        "    total_pairs = n * (n - 1) // 2\n",
        "    P = total_pairs - G - B - N\n",
        "\n",
        "    denom = math.sqrt(B) + math.sqrt(N)\n",
        "    if abs(denom) < 1e-12:\n",
        "        print(-1.0)\n",
        "    else:\n",
        "        numer = math.sqrt(G) + math.sqrt(P)\n",
        "        result = numer / denom\n",
        "        print(result)\n",
        "\n",
        "if __name__ == \"__main__\":\n",
        "    main()"
      ]
    }
  ]
}