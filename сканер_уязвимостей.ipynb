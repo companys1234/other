{
  "nbformat": 4,
  "nbformat_minor": 0,
  "metadata": {
    "colab": {
      "provenance": []
    },
    "kernelspec": {
      "name": "python3",
      "display_name": "Python 3"
    },
    "language_info": {
      "name": "python"
    }
  },
  "cells": [
    {
      "cell_type": "code",
      "execution_count": 1,
      "metadata": {
        "colab": {
          "base_uri": "https://localhost:8080/"
        },
        "id": "sSPSE0hguZ4A",
        "outputId": "5bef114b-3ac9-4f11-e2f3-04a6e7935e24"
      },
      "outputs": [
        {
          "output_type": "stream",
          "name": "stdout",
          "text": [
            "[+] Порт 80 (unknown) открыт\n",
            "[+] Порт 443 (unknown) открыт\n",
            "Открытые порты: [80, 443]\n"
          ]
        }
      ],
      "source": [
        "import socket\n",
        "import threading\n",
        "from concurrent.futures import ThreadPoolExecutor\n",
        "\n",
        "def scan_port(ip, port, timeout=1):\n",
        "    try:\n",
        "        with socket.socket(socket.AF_INET, socket.SOCK_STREAM) as s:\n",
        "            s.settimeout(timeout)\n",
        "            result = s.connect_ex((ip, port))\n",
        "            if result == 0:\n",
        "                try:\n",
        "                    service = socket.getservbyport(port)\n",
        "                except:\n",
        "                    service = \"unknown\"\n",
        "                print(f\"[+] Порт {port} ({service}) открыт\")\n",
        "                return port\n",
        "    except Exception as e:\n",
        "        pass\n",
        "    return None\n",
        "\n",
        "def port_scanner(ip, ports_range):\n",
        "    open_ports = []\n",
        "    with ThreadPoolExecutor(max_workers=100) as executor:\n",
        "        results = executor.map(lambda port: scan_port(ip, port), ports_range)\n",
        "        for port in results:\n",
        "            if port:\n",
        "                open_ports.append(port)\n",
        "    return open_ports\n",
        "\n",
        "# Пример использования\n",
        "target = \"example.com\"\n",
        "ports = range(1, 1025)  # Сканируем первые 1024 порта\n",
        "open_ports = port_scanner(target, ports)\n",
        "print(f\"Открытые порты: {open_ports}\")"
      ]
    },
    {
      "cell_type": "code",
      "source": [
        "import requests\n",
        "\n",
        "def check_vulnerable_service(ip, port):\n",
        "    try:\n",
        "        # Пример: проверка HTTP-сервера\n",
        "        if port == 80 or port == 443:\n",
        "            url = f\"http://{ip}:{port}\" if port == 80 else f\"https://{ip}:{port}\"\n",
        "            response = requests.get(url, timeout=3, verify=False)\n",
        "            server_header = response.headers.get('Server', '')\n",
        "\n",
        "            # Проверка уязвимых версий nginx\n",
        "            if \"nginx/1.18.0\" in server_header:\n",
        "                print(f\"[!] Уязвимая версия nginx обнаружена на порту {port}\")\n",
        "\n",
        "    except requests.exceptions.RequestException:\n",
        "        pass\n",
        "\n",
        "# Запуск для всех открытых портов\n",
        "for port in open_ports:\n",
        "    check_vulnerable_service(target, port)"
      ],
      "metadata": {
        "colab": {
          "base_uri": "https://localhost:8080/"
        },
        "id": "3-bJdYcNvBb8",
        "outputId": "6164674d-65ac-479a-937b-87aa10835f3a"
      },
      "execution_count": 2,
      "outputs": [
        {
          "output_type": "stream",
          "name": "stderr",
          "text": [
            "/usr/local/lib/python3.12/dist-packages/urllib3/connectionpool.py:1097: InsecureRequestWarning: Unverified HTTPS request is being made to host 'example.com'. Adding certificate verification is strongly advised. See: https://urllib3.readthedocs.io/en/latest/advanced-usage.html#tls-warnings\n",
            "  warnings.warn(\n"
          ]
        }
      ]
    },
    {
      "cell_type": "code",
      "source": [
        "def check_sql_injection(url):\n",
        "    test_payloads = [\"'\", \"\\\"\", \"'; --\", \"1' OR '1'='1\"]\n",
        "    vulnerable = False\n",
        "\n",
        "    for payload in test_payloads:\n",
        "        test_url = f\"{url}?id={payload}\"\n",
        "        try:\n",
        "            response = requests.get(test_url, timeout=3)\n",
        "            if \"sql\" in response.text.lower() or \"syntax\" in response.text.lower():\n",
        "                print(f\"[!] Возможна SQLi: {test_url}\")\n",
        "                vulnerable = True\n",
        "        except:\n",
        "            continue\n",
        "\n",
        "    return vulnerable\n",
        "\n",
        "# Пример использования\n",
        "check_sql_injection(\"http://test-site.com/page\")"
      ],
      "metadata": {
        "colab": {
          "base_uri": "https://localhost:8080/"
        },
        "id": "c_vBWGKewBAb",
        "outputId": "629af979-52c7-4775-cf9b-db8581b776af"
      },
      "execution_count": 3,
      "outputs": [
        {
          "output_type": "execute_result",
          "data": {
            "text/plain": [
              "False"
            ]
          },
          "metadata": {},
          "execution_count": 3
        }
      ]
    },
    {
      "cell_type": "code",
      "source": [
        "def check_xss(url):\n",
        "    xss_payloads = [\n",
        "        \"<script>alert('XSS')</script>\",\n",
        "        \"\\\"><script>alert('XSS')</script>\",\n",
        "        \"javascript:alert('XSS')\"\n",
        "    ]\n",
        "\n",
        "    for payload in xss_payloads:\n",
        "        test_url = f\"{url}?search={payload}\"\n",
        "        try:\n",
        "            response = requests.get(test_url, timeout=3)\n",
        "            if payload in response.text:\n",
        "                print(f\"[!] Возможна XSS: {test_url}\")\n",
        "        except:\n",
        "            continue\n",
        "\n",
        "check_xss(\"http://test-site.com/search\")"
      ],
      "metadata": {
        "id": "Jo2jnObuwcds"
      },
      "execution_count": 4,
      "outputs": []
    },
    {
      "cell_type": "code",
      "source": [
        "import requests\n",
        "import json\n",
        "\n",
        "def check_cve(service_name, version):\n",
        "    # Используем API NVD (National Vulnerability Database)\n",
        "    url = f\"https://services.nvd.nist.gov/rest/json/cves/1.0\"\n",
        "    params = {\n",
        "        \"keyword\": f\"{service_name} {version}\",\n",
        "        \"resultsPerPage\": 10\n",
        "    }\n",
        "\n",
        "    try:\n",
        "        response = requests.get(url, params=params, timeout=5)\n",
        "        data = response.json()\n",
        "\n",
        "        if data[\"totalResults\"] > 0:\n",
        "            print(f\"[!] Найдены уязвимости для {service_name} {version}:\")\n",
        "            for item in data[\"result\"][\"CVE_Items\"][:3]:\n",
        "                cve_id = item[\"cve\"][\"CVE_data_meta\"][\"ID\"]\n",
        "                description = item[\"cve\"][\"description\"][\"description_data\"][0][\"value\"]\n",
        "                print(f\"    {cve_id}: {description[:100]}...\")\n",
        "    except Exception as e:\n",
        "        print(f\"Ошибка при проверке CVE: {e}\")\n",
        "\n",
        "# Пример использования\n",
        "check_cve(\"nginx\", \"1.18.0\")"
      ],
      "metadata": {
        "colab": {
          "base_uri": "https://localhost:8080/"
        },
        "id": "IBJzeNNLxe6r",
        "outputId": "ed251f05-9fab-4466-89a9-e6485f38913d"
      },
      "execution_count": 5,
      "outputs": [
        {
          "output_type": "stream",
          "name": "stdout",
          "text": [
            "Ошибка при проверке CVE: Expecting value: line 1 column 1 (char 0)\n"
          ]
        }
      ]
    },
    {
      "cell_type": "code",
      "source": [
        "def main():\n",
        "    target = input(\"Введите цель (IP или домен): \")\n",
        "\n",
        "    print(\"[*] Сканирование портов...\")\n",
        "    ports = range(1, 1001)  # Первые 1000 портов\n",
        "    open_ports = port_scanner(target, ports)\n",
        "\n",
        "    print(\"[*] Проверка сервисов...\")\n",
        "    for port in open_ports:\n",
        "        check_vulnerable_service(target, port)\n",
        "\n",
        "    print(\"[*] Проверка веб-уязвимостей...\")\n",
        "    if 80 in open_ports:\n",
        "        check_sql_injection(f\"http://{target}\")\n",
        "        check_xss(f\"http://{target}\")\n",
        "    if 443 in open_ports:\n",
        "        check_sql_injection(f\"https://{target}\")\n",
        "        check_xss(f\"https://{target}\")\n",
        "\n",
        "if __name__ == \"__main__\":\n",
        "    main()"
      ],
      "metadata": {
        "colab": {
          "base_uri": "https://localhost:8080/"
        },
        "id": "0XanW39qyWhs",
        "outputId": "b5913670-a989-4bfe-a7d7-d583920d0f18"
      },
      "execution_count": 6,
      "outputs": [
        {
          "output_type": "stream",
          "name": "stdout",
          "text": [
            "Введите цель (IP или домен): google.com\n",
            "[*] Сканирование портов...\n",
            "[+] Порт 80 (unknown) открыт\n",
            "[+] Порт 443 (unknown) открыт\n",
            "[*] Проверка сервисов...\n",
            "[*] Проверка веб-уязвимостей...\n",
            "[!] Возможна SQLi: http://google.com?id='\n"
          ]
        },
        {
          "output_type": "stream",
          "name": "stderr",
          "text": [
            "/usr/local/lib/python3.12/dist-packages/urllib3/connectionpool.py:1097: InsecureRequestWarning: Unverified HTTPS request is being made to host 'google.com'. Adding certificate verification is strongly advised. See: https://urllib3.readthedocs.io/en/latest/advanced-usage.html#tls-warnings\n",
            "  warnings.warn(\n",
            "/usr/local/lib/python3.12/dist-packages/urllib3/connectionpool.py:1097: InsecureRequestWarning: Unverified HTTPS request is being made to host 'www.google.com'. Adding certificate verification is strongly advised. See: https://urllib3.readthedocs.io/en/latest/advanced-usage.html#tls-warnings\n",
            "  warnings.warn(\n"
          ]
        },
        {
          "output_type": "stream",
          "name": "stdout",
          "text": [
            "[!] Возможна SQLi: http://google.com?id=\"\n",
            "[!] Возможна SQLi: http://google.com?id='; --\n",
            "[!] Возможна SQLi: http://google.com?id=1' OR '1'='1\n",
            "[!] Возможна SQLi: https://google.com?id='\n",
            "[!] Возможна SQLi: https://google.com?id=\"\n",
            "[!] Возможна SQLi: https://google.com?id='; --\n",
            "[!] Возможна SQLi: https://google.com?id=1' OR '1'='1\n"
          ]
        }
      ]
    }
  ]
}