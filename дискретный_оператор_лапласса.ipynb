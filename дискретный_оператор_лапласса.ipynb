{
  "nbformat": 4,
  "nbformat_minor": 0,
  "metadata": {
    "colab": {
      "provenance": []
    },
    "kernelspec": {
      "name": "python3",
      "display_name": "Python 3"
    },
    "language_info": {
      "name": "python"
    }
  },
  "cells": [
    {
      "cell_type": "code",
      "source": [
        "import numpy as np"
      ],
      "metadata": {
        "id": "V99OVDzRy1VR"
      },
      "execution_count": 6,
      "outputs": []
    },
    {
      "cell_type": "code",
      "execution_count": 7,
      "metadata": {
        "colab": {
          "base_uri": "https://localhost:8080/"
        },
        "id": "I7DtwjhsoQrj",
        "outputId": "016fae00-5955-4c65-9b2c-314d58378851"
      },
      "outputs": [
        {
          "output_type": "stream",
          "name": "stdout",
          "text": [
            "Оператор Лапласа для f(x,y) = x² + y²:\n",
            "[[0. 0. 0. 0. 0. 0. 0. 0. 0. 0.]\n",
            " [0. 4. 4. 4. 4. 4. 4. 4. 4. 0.]\n",
            " [0. 4. 4. 4. 4. 4. 4. 4. 4. 0.]\n",
            " [0. 4. 4. 4. 4. 4. 4. 4. 4. 0.]\n",
            " [0. 4. 4. 4. 4. 4. 4. 4. 4. 0.]\n",
            " [0. 4. 4. 4. 4. 4. 4. 4. 4. 0.]\n",
            " [0. 4. 4. 4. 4. 4. 4. 4. 4. 0.]\n",
            " [0. 4. 4. 4. 4. 4. 4. 4. 4. 0.]\n",
            " [0. 4. 4. 4. 4. 4. 4. 4. 4. 0.]\n",
            " [0. 0. 0. 0. 0. 0. 0. 0. 0. 0.]]\n"
          ]
        }
      ],
      "source": [
        "def discrete_laplacian_2d(u, dx=1.0, dy=1.0):\n",
        "    \"\"\"\n",
        "    Дискретный оператор Лапласа для 2D сетки\n",
        "    \"\"\"\n",
        "    laplacian = np.zeros_like(u)\n",
        "\n",
        "    # Центральные разности второго порядка\n",
        "    for i in range(1, u.shape[0]-1):\n",
        "        for j in range(1, u.shape[1]-1):\n",
        "            d2u_dx2 = (u[i+1, j] - 2*u[i, j] + u[i-1, j]) / dx**2\n",
        "            d2u_dy2 = (u[i, j+1] - 2*u[i, j] + u[i, j-1]) / dy**2\n",
        "            laplacian[i, j] = d2u_dx2 + d2u_dy2\n",
        "\n",
        "    return laplacian\n",
        "\n",
        "# Векторизованная версия (быстрее)\n",
        "def vectorized_laplacian_2d(u, dx=1.0, dy=1.0):\n",
        "    \"\"\"\n",
        "    Векторизованный оператор Лапласа для 2D сетки\n",
        "    \"\"\"\n",
        "    laplacian = np.zeros_like(u)\n",
        "    laplacian[1:-1, 1:-1] = (\n",
        "        (u[2:, 1:-1] - 2*u[1:-1, 1:-1] + u[:-2, 1:-1]) / dx**2 +\n",
        "        (u[1:-1, 2:] - 2*u[1:-1, 1:-1] + u[1:-1, :-2]) / dy**2\n",
        "    )\n",
        "    return laplacian\n",
        "\n",
        "# Пример использования\n",
        "x = np.linspace(-2, 2, 10)\n",
        "y = np.linspace(-2, 2, 10)\n",
        "X, Y = np.meshgrid(x, y)\n",
        "U = X**2 + Y**2\n",
        "\n",
        "laplacian_U = vectorized_laplacian_2d(U, dx=x[1]-x[0], dy=y[1]-y[0])\n",
        "print(\"Оператор Лапласа для f(x,y) = x² + y²:\")\n",
        "print(laplacian_U)"
      ]
    }
  ]
}