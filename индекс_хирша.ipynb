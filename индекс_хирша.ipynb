{
  "nbformat": 4,
  "nbformat_minor": 0,
  "metadata": {
    "colab": {
      "provenance": []
    },
    "kernelspec": {
      "name": "python3",
      "display_name": "Python 3"
    },
    "language_info": {
      "name": "python"
    }
  },
  "cells": [
    {
      "cell_type": "code",
      "execution_count": 9,
      "metadata": {
        "colab": {
          "base_uri": "https://localhost:8080/"
        },
        "id": "gHwT2O2zDbV5",
        "outputId": "a048f829-e201-48ce-837b-72fc6d4bda3c"
      },
      "outputs": [
        {
          "output_type": "stream",
          "name": "stdout",
          "text": [
            "Цитирования: [3, 0, 6, 1, 5] -> h-index: 3\n",
            "Цитирования: [1, 2, 3, 14, 15, 16, 17, 18, 19] -> h-index: 6\n",
            "Цитирования: [10, 8, 5, 4, 3] -> h-index: 4\n",
            "Цитирования: [0, 0, 0] -> h-index: 0\n",
            "Цитирования: [100] -> h-index: 1\n"
          ]
        }
      ],
      "source": [
        "def h_index(citations):\n",
        "    \"\"\"\n",
        "    Рассчитывает индекс Хирша для списка цитирований\n",
        "\n",
        "    Args:\n",
        "        citations: список целых чисел (количество цитирований каждой работы)\n",
        "\n",
        "    Returns:\n",
        "        h_index: целое число (индекс Хирша)\n",
        "    \"\"\"\n",
        "    # Сортируем цитирования в порядке убывания\n",
        "    sorted_citations = sorted(citations, reverse=True)\n",
        "\n",
        "    # Находим максимальное h, для которого h публикаций имеют ≥ h цитирований\n",
        "    h = 0\n",
        "    for i, cites in enumerate(sorted_citations):\n",
        "        if cites >= i + 1:\n",
        "            h = i + 1\n",
        "        else:\n",
        "            break\n",
        "    return h\n",
        "\n",
        "# Альтернативная версия (более компактная)\n",
        "def h_index_short(citations):\n",
        "    citations.sort(reverse=True)\n",
        "    return sum(i < j for i, j in enumerate(citations))\n",
        "\n",
        "# Пример использования\n",
        "if __name__ == \"__main__\":\n",
        "    # Примеры цитирований\n",
        "    test_cases = [\n",
        "        [3, 0, 6, 1, 5],  # h-index = 3\n",
        "        [1,2,3,14,15,16,17,18,19],        # h-index = 1\n",
        "        [10, 8, 5, 4, 3], # h-index = 4\n",
        "        [0, 0, 0],        # h-index = 0\n",
        "        [100],            # h-index = 1\n",
        "    ]\n",
        "\n",
        "    for citations in test_cases:\n",
        "        result = h_index(citations)\n",
        "        print(f\"Цитирования: {citations} -> h-index: {result}\")"
      ]
    }
  ]
}