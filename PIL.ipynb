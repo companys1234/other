{
  "nbformat": 4,
  "nbformat_minor": 0,
  "metadata": {
    "colab": {
      "provenance": []
    },
    "kernelspec": {
      "name": "python3",
      "display_name": "Python 3"
    },
    "language_info": {
      "name": "python"
    }
  },
  "cells": [
    {
      "cell_type": "code",
      "execution_count": 1,
      "metadata": {
        "colab": {
          "base_uri": "https://localhost:8080/"
        },
        "id": "CDgDOq2t4G7q",
        "outputId": "f1980607-4475-4493-8568-3d03bda6994a"
      },
      "outputs": [
        {
          "output_type": "stream",
          "name": "stdout",
          "text": [
            "JPEG (225, 225) RGB\n"
          ]
        }
      ],
      "source": [
        "from PIL import Image\n",
        "\n",
        "# Открытие изображения\n",
        "img = Image.open(\"/content/клубничке.jpg\")\n",
        "\n",
        "# Просмотр информации\n",
        "print(img.format, img.size, img.mode)\n",
        "# Сохранение\n",
        "img.save(\"new_image.png\")"
      ]
    },
    {
      "cell_type": "code",
      "source": [
        "img.show()"
      ],
      "metadata": {
        "id": "jHpFf1vx4dL1"
      },
      "execution_count": 2,
      "outputs": []
    },
    {
      "cell_type": "code",
      "source": [
        "resized_img = img.resize((300, 200))  # (ширина, высота)\n",
        "resized_img.save(\"resized.jpg\")"
      ],
      "metadata": {
        "id": "zMvS_5TH4ihs"
      },
      "execution_count": 3,
      "outputs": []
    },
    {
      "cell_type": "code",
      "source": [
        "box = (100, 100, 400, 400)  # (left, upper, right, lower)\n",
        "cropped_img = img.crop(box)\n",
        "cropped_img.save(\"cropped.jpg\")"
      ],
      "metadata": {
        "id": "buhnYzRE4t9-"
      },
      "execution_count": 4,
      "outputs": []
    },
    {
      "cell_type": "code",
      "source": [
        "rotated_img = img.rotate(45)  # поворот на 45°\n",
        "rotated_img.save(\"rotated.jpg\")\n",
        "\n",
        "# Отражение\n",
        "flipped_img = img.transpose(Image.FLIP_LEFT_RIGHT)  # или FLIP_TOP_BOTTOM\n",
        "flipped_img.save(\"flipped.jpg\")"
      ],
      "metadata": {
        "id": "42jsu2Ez4xqF"
      },
      "execution_count": 5,
      "outputs": []
    },
    {
      "cell_type": "code",
      "source": [
        "gray_img = img.convert(\"L\")  # в градации серого\n",
        "gray_img.save(\"gray.jpg\")\n",
        "\n",
        "# RGBA (прозрачность)\n",
        "rgba_img = img.convert(\"RGBA\")"
      ],
      "metadata": {
        "id": "ZVMtp4Gq5Dl8"
      },
      "execution_count": 6,
      "outputs": []
    },
    {
      "cell_type": "code",
      "source": [
        "from PIL import ImageFilter\n",
        "\n",
        "blurred_img = img.filter(ImageFilter.BLUR)\n",
        "blurred_img.save(\"blurred.jpg\")\n",
        "\n",
        "# Другие фильтры: GaussianBlur, SHARPEN, CONTOUR, etc."
      ],
      "metadata": {
        "id": "PFOs7re45jyu"
      },
      "execution_count": 7,
      "outputs": []
    },
    {
      "cell_type": "code",
      "source": [
        "from PIL import ImageDraw, ImageFont\n",
        "\n",
        "draw = ImageDraw.Draw(img)\n",
        "\n",
        "# Текст\n",
        "\"\"\"font = ImageFont.truetype(\"arial.ttf\", 36)  # шрифт и размер\n",
        "draw.text((10, 10), \"Hello, Pillow!\", fill=\"red\", font=font)\"\"\"\n",
        "\n",
        "# Фигуры\n",
        "draw.rectangle([(50, 50), (150, 150)], outline=\"blue\", width=2)\n",
        "draw.line([(0, 0), (200, 200)], fill=\"green\", width=3)\n",
        "\n",
        "img.save(\"edited.jpg\")"
      ],
      "metadata": {
        "id": "RbDWYJ3e5vM8"
      },
      "execution_count": 9,
      "outputs": []
    },
    {
      "cell_type": "code",
      "source": [
        "import os\n",
        "\n",
        "input_folder = \"input_images\"\n",
        "output_folder = \"output_images\"\n",
        "\n",
        "if not os.path.exists(output_folder):\n",
        "    os.makedirs(output_folder)\n",
        "\n",
        "for filename in os.listdir(input_folder):\n",
        "    if filename.endswith(\".jpg\") or filename.endswith(\".png\"):\n",
        "        img = Image.open(os.path.join(input_folder, filename))\n",
        "        # Пример: конвертация в ч/б\n",
        "        gray_img = img.convert(\"L\")\n",
        "        gray_img.save(os.path.join(output_folder, f\"gray_{filename}\"))"
      ],
      "metadata": {
        "id": "LnfystKY6V4t"
      },
      "execution_count": null,
      "outputs": []
    },
    {
      "cell_type": "code",
      "source": [
        "images = [Image.open(f\"frame_{i}.jpg\") for i in range(1, 10)]\n",
        "images[0].save(\n",
        "    \"animation.gif\",\n",
        "    save_all=True,\n",
        "    append_images=images[1:],\n",
        "    duration=100,  # задержка между кадрами (мс)\n",
        "    loop=0,  # бесконечный цикл\n",
        ")"
      ],
      "metadata": {
        "id": "rV1cJVZ37akN"
      },
      "execution_count": 12,
      "outputs": []
    },
    {
      "cell_type": "code",
      "source": [
        "img1 = Image.open(\"/content/blurred.jpg\")\n",
        "img2 = Image.open(\"/content/flipped.jpg\")\n",
        "\n",
        "# Смешивание (alpha = прозрачность)\n",
        "blended_img = Image.blend(img1, img2, alpha=0.5)\n",
        "blended_img.save(\"blended.jpg\")"
      ],
      "metadata": {
        "id": "ovtLGIg28ke_"
      },
      "execution_count": 14,
      "outputs": []
    },
    {
      "cell_type": "code",
      "source": [
        "exif_data = img._getexif()  # метаданные (если есть)"
      ],
      "metadata": {
        "id": "sTevYObG81st"
      },
      "execution_count": null,
      "outputs": []
    },
    {
      "cell_type": "code",
      "source": [
        "watermark = Image.open(\"/content/frame_3.jpg\")\n",
        "img.paste(watermark, (50, 50), watermark)  # (x, y), маска\n",
        "img.save(\"watermarked.jpg\")"
      ],
      "metadata": {
        "colab": {
          "base_uri": "https://localhost:8080/",
          "height": 315
        },
        "id": "2byJ4wIZ9CdS",
        "outputId": "74597cd4-e1b5-4136-a2e1-1f4fe6cf4d67"
      },
      "execution_count": 15,
      "outputs": [
        {
          "output_type": "error",
          "ename": "ValueError",
          "evalue": "bad transparency mask",
          "traceback": [
            "\u001b[0;31m---------------------------------------------------------------------------\u001b[0m",
            "\u001b[0;31mValueError\u001b[0m                                Traceback (most recent call last)",
            "\u001b[0;32m<ipython-input-15-136707362>\u001b[0m in \u001b[0;36m<cell line: 0>\u001b[0;34m()\u001b[0m\n\u001b[1;32m      1\u001b[0m \u001b[0mwatermark\u001b[0m \u001b[0;34m=\u001b[0m \u001b[0mImage\u001b[0m\u001b[0;34m.\u001b[0m\u001b[0mopen\u001b[0m\u001b[0;34m(\u001b[0m\u001b[0;34m\"/content/frame_3.jpg\"\u001b[0m\u001b[0;34m)\u001b[0m\u001b[0;34m\u001b[0m\u001b[0;34m\u001b[0m\u001b[0m\n\u001b[0;32m----> 2\u001b[0;31m \u001b[0mimg\u001b[0m\u001b[0;34m.\u001b[0m\u001b[0mpaste\u001b[0m\u001b[0;34m(\u001b[0m\u001b[0mwatermark\u001b[0m\u001b[0;34m,\u001b[0m \u001b[0;34m(\u001b[0m\u001b[0;36m50\u001b[0m\u001b[0;34m,\u001b[0m \u001b[0;36m50\u001b[0m\u001b[0;34m)\u001b[0m\u001b[0;34m,\u001b[0m \u001b[0mwatermark\u001b[0m\u001b[0;34m)\u001b[0m  \u001b[0;31m# (x, y), маска\u001b[0m\u001b[0;34m\u001b[0m\u001b[0;34m\u001b[0m\u001b[0m\n\u001b[0m\u001b[1;32m      3\u001b[0m \u001b[0mimg\u001b[0m\u001b[0;34m.\u001b[0m\u001b[0msave\u001b[0m\u001b[0;34m(\u001b[0m\u001b[0;34m\"watermarked.jpg\"\u001b[0m\u001b[0;34m)\u001b[0m\u001b[0;34m\u001b[0m\u001b[0;34m\u001b[0m\u001b[0m\n",
            "\u001b[0;32m/usr/local/lib/python3.11/dist-packages/PIL/Image.py\u001b[0m in \u001b[0;36mpaste\u001b[0;34m(self, im, box, mask)\u001b[0m\n\u001b[1;32m   1813\u001b[0m         \u001b[0;32mif\u001b[0m \u001b[0mmask\u001b[0m\u001b[0;34m:\u001b[0m\u001b[0;34m\u001b[0m\u001b[0;34m\u001b[0m\u001b[0m\n\u001b[1;32m   1814\u001b[0m             \u001b[0mmask\u001b[0m\u001b[0;34m.\u001b[0m\u001b[0mload\u001b[0m\u001b[0;34m(\u001b[0m\u001b[0;34m)\u001b[0m\u001b[0;34m\u001b[0m\u001b[0;34m\u001b[0m\u001b[0m\n\u001b[0;32m-> 1815\u001b[0;31m             \u001b[0mself\u001b[0m\u001b[0;34m.\u001b[0m\u001b[0mim\u001b[0m\u001b[0;34m.\u001b[0m\u001b[0mpaste\u001b[0m\u001b[0;34m(\u001b[0m\u001b[0msource\u001b[0m\u001b[0;34m,\u001b[0m \u001b[0mbox\u001b[0m\u001b[0;34m,\u001b[0m \u001b[0mmask\u001b[0m\u001b[0;34m.\u001b[0m\u001b[0mim\u001b[0m\u001b[0;34m)\u001b[0m\u001b[0;34m\u001b[0m\u001b[0;34m\u001b[0m\u001b[0m\n\u001b[0m\u001b[1;32m   1816\u001b[0m         \u001b[0;32melse\u001b[0m\u001b[0;34m:\u001b[0m\u001b[0;34m\u001b[0m\u001b[0;34m\u001b[0m\u001b[0m\n\u001b[1;32m   1817\u001b[0m             \u001b[0mself\u001b[0m\u001b[0;34m.\u001b[0m\u001b[0mim\u001b[0m\u001b[0;34m.\u001b[0m\u001b[0mpaste\u001b[0m\u001b[0;34m(\u001b[0m\u001b[0msource\u001b[0m\u001b[0;34m,\u001b[0m \u001b[0mbox\u001b[0m\u001b[0;34m)\u001b[0m\u001b[0;34m\u001b[0m\u001b[0;34m\u001b[0m\u001b[0m\n",
            "\u001b[0;31mValueError\u001b[0m: bad transparency mask"
          ]
        }
      ]
    },
    {
      "cell_type": "code",
      "source": [],
      "metadata": {
        "id": "fjFOmbgc9KP3"
      },
      "execution_count": null,
      "outputs": []
    }
  ]
}