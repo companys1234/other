{
  "nbformat": 4,
  "nbformat_minor": 0,
  "metadata": {
    "colab": {
      "provenance": []
    },
    "kernelspec": {
      "name": "python3",
      "display_name": "Python 3"
    },
    "language_info": {
      "name": "python"
    }
  },
  "cells": [
    {
      "cell_type": "markdown",
      "source": [
        "наследование"
      ],
      "metadata": {
        "id": "FlzR3YlGSKxw"
      }
    },
    {
      "cell_type": "code",
      "execution_count": 1,
      "metadata": {
        "colab": {
          "base_uri": "https://localhost:8080/"
        },
        "id": "oTzk5Bz0SAvG",
        "outputId": "8a2006f6-0be9-417e-dd4c-a4002189d93e"
      },
      "outputs": [
        {
          "output_type": "stream",
          "name": "stdout",
          "text": [
            "Бобик говорит: Гав!\n",
            "Бобик приносит мяч!\n",
            "Мурзик говорит: Мяу!\n",
            "Мурзик царапает мебель!\n"
          ]
        }
      ],
      "source": [
        "class Animal:\n",
        "    def __init__(self, name):\n",
        "        self.name = name\n",
        "\n",
        "    def make_sound(self):\n",
        "        pass\n",
        "\n",
        "class Dog(Animal):\n",
        "    def make_sound(self):\n",
        "        return \"Гав!\"\n",
        "\n",
        "    def fetch(self):\n",
        "        return f\"{self.name} приносит мяч!\"\n",
        "\n",
        "class Cat(Animal):\n",
        "    def make_sound(self):\n",
        "        return \"Мяу!\"\n",
        "\n",
        "    def scratch(self):\n",
        "        return f\"{self.name} царапает мебель!\"\n",
        "\n",
        "# Использование\n",
        "animals = [Dog(\"Бобик\"), Cat(\"Мурзик\")]\n",
        "\n",
        "for animal in animals:\n",
        "    print(f\"{animal.name} говорит: {animal.make_sound()}\")\n",
        "    if isinstance(animal, Dog):\n",
        "        print(animal.fetch())\n",
        "    elif isinstance(animal, Cat):\n",
        "        print(animal.scratch())"
      ]
    },
    {
      "cell_type": "markdown",
      "source": [
        "Полиморфизм"
      ],
      "metadata": {
        "id": "Gq8XmKajSoE4"
      }
    },
    {
      "cell_type": "code",
      "source": [
        "class Rectangle:\n",
        "    def __init__(self, width, height):\n",
        "        self.width = width\n",
        "        self.height = height\n",
        "\n",
        "    def area(self):\n",
        "        return self.width * self.height\n",
        "\n",
        "    def perimeter(self):\n",
        "        return 2 * (self.width + self.height)\n",
        "\n",
        "class Circle:\n",
        "    def __init__(self, radius):\n",
        "        self.radius = radius\n",
        "\n",
        "    def area(self):\n",
        "        return 3.14 * self.radius ** 2\n",
        "\n",
        "    def perimeter(self):\n",
        "        return 2 * 3.14 * self.radius\n",
        "\n",
        "# Функция, демонстрирующая полиморфизм\n",
        "def print_shape_info(shape):\n",
        "    print(f\"Площадь: {shape.area()}\")\n",
        "    print(f\"Периметр: {shape.perimeter()}\")\n",
        "\n",
        "# Использование\n",
        "shapes = [Rectangle(4, 5), Circle(7)]\n",
        "\n",
        "for shape in shapes:\n",
        "    print_shape_info(shape)\n",
        "    print()  # пустая строка для разделения"
      ],
      "metadata": {
        "colab": {
          "base_uri": "https://localhost:8080/"
        },
        "id": "k0eMbwl1Sra_",
        "outputId": "a689e0c5-8a8b-42c4-a03d-1d59be5c5b0c"
      },
      "execution_count": 2,
      "outputs": [
        {
          "output_type": "stream",
          "name": "stdout",
          "text": [
            "Площадь: 20\n",
            "Периметр: 18\n",
            "\n",
            "Площадь: 153.86\n",
            "Периметр: 43.96\n",
            "\n"
          ]
        }
      ]
    },
    {
      "cell_type": "markdown",
      "source": [
        "инкапсуляция"
      ],
      "metadata": {
        "id": "0YfYPuyNTQEp"
      }
    },
    {
      "cell_type": "code",
      "source": [
        "class BankAccount:\n",
        "    def __init__(self, owner, balance=0):\n",
        "        self._owner = owner  # защищенный атрибут\n",
        "        self.__balance = balance  # приватный атрибут\n",
        "\n",
        "    def deposit(self, amount):\n",
        "        if amount > 0:\n",
        "            self.__balance += amount\n",
        "            print(f\"Депозит на {amount} успешно выполнен.\")\n",
        "        else:\n",
        "            print(\"Сумма депозита должна быть положительной.\")\n",
        "\n",
        "    def withdraw(self, amount):\n",
        "        if 0 < amount <= self.__balance:\n",
        "            self.__balance -= amount\n",
        "            print(f\"Снятие {amount} успешно выполнено.\")\n",
        "        else:\n",
        "            print(\"Недостаточно средств или неверная сумма.\")\n",
        "\n",
        "    def get_balance(self):\n",
        "        return self.__balance\n",
        "\n",
        "    def get_owner(self):\n",
        "        return self._owner\n",
        "\n",
        "# Использование\n",
        "account = BankAccount(\"Иван Иванов\", 1000)\n",
        "account.deposit(500)\n",
        "account.withdraw(200)\n",
        "print(f\"Баланс: {account.get_balance()}\")\n",
        "print(f\"Владелец: {account.get_owner()}\")\n",
        "\n",
        "# Попытка доступа к приватному атрибуту (вызовет ошибку)\n",
        "print(account.__balance)"
      ],
      "metadata": {
        "colab": {
          "base_uri": "https://localhost:8080/",
          "height": 256
        },
        "id": "KsTkQ4piTR_H",
        "outputId": "871aa3d8-a70c-4ffe-ef21-244bbb5d122d"
      },
      "execution_count": 4,
      "outputs": [
        {
          "output_type": "stream",
          "name": "stdout",
          "text": [
            "Депозит на 500 успешно выполнен.\n",
            "Снятие 200 успешно выполнено.\n",
            "Баланс: 1300\n",
            "Владелец: Иван Иванов\n"
          ]
        },
        {
          "output_type": "error",
          "ename": "AttributeError",
          "evalue": "'BankAccount' object has no attribute '__balance'",
          "traceback": [
            "\u001b[0;31m---------------------------------------------------------------------------\u001b[0m",
            "\u001b[0;31mAttributeError\u001b[0m                            Traceback (most recent call last)",
            "\u001b[0;32m/tmp/ipython-input-4-1325253998.py\u001b[0m in \u001b[0;36m<cell line: 0>\u001b[0;34m()\u001b[0m\n\u001b[1;32m     32\u001b[0m \u001b[0;34m\u001b[0m\u001b[0m\n\u001b[1;32m     33\u001b[0m \u001b[0;31m# Попытка доступа к приватному атрибуту (вызовет ошибку)\u001b[0m\u001b[0;34m\u001b[0m\u001b[0;34m\u001b[0m\u001b[0m\n\u001b[0;32m---> 34\u001b[0;31m \u001b[0mprint\u001b[0m\u001b[0;34m(\u001b[0m\u001b[0maccount\u001b[0m\u001b[0;34m.\u001b[0m\u001b[0m__balance\u001b[0m\u001b[0;34m)\u001b[0m\u001b[0;34m\u001b[0m\u001b[0;34m\u001b[0m\u001b[0m\n\u001b[0m",
            "\u001b[0;31mAttributeError\u001b[0m: 'BankAccount' object has no attribute '__balance'"
          ]
        }
      ]
    },
    {
      "cell_type": "markdown",
      "source": [
        "абстракция"
      ],
      "metadata": {
        "id": "XKowWi3hTwyJ"
      }
    },
    {
      "cell_type": "code",
      "source": [
        "from abc import ABC, abstractmethod\n",
        "\n",
        "class Vehicle(ABC):\n",
        "    def __init__(self, model, year):\n",
        "        self.model = model\n",
        "        self.year = year\n",
        "\n",
        "    @abstractmethod\n",
        "    def start(self):\n",
        "        pass\n",
        "\n",
        "    @abstractmethod\n",
        "    def stop(self):\n",
        "        pass\n",
        "\n",
        "    def get_info(self):\n",
        "        return f\"{self.model} {self.year} года\"\n",
        "\n",
        "class Car(Vehicle):\n",
        "    def start(self):\n",
        "        return \"Автомобиль заводится с ключа\"\n",
        "\n",
        "    def stop(self):\n",
        "        return \"Автомобиль останавливается\"\n",
        "\n",
        "class ElectricCar(Vehicle):\n",
        "    def start(self):\n",
        "        return \"Электромобиль включается кнопкой\"\n",
        "\n",
        "    def stop(self):\n",
        "        return \"Электромобиль останавливается с рекуперацией энергии\"\n",
        "\n",
        "# Использование\n",
        "vehicles = [Car(\"Toyota Camry\", 2020), ElectricCar(\"Tesla Model S\", 2022)]\n",
        "\n",
        "for vehicle in vehicles:\n",
        "    print(vehicle.get_info())\n",
        "    print(vehicle.start())\n",
        "    print(vehicle.stop())\n",
        "    print()  # пустая строка для разделения"
      ],
      "metadata": {
        "colab": {
          "base_uri": "https://localhost:8080/"
        },
        "id": "suVGFjGXTzdv",
        "outputId": "c949201a-9f1f-41b9-f974-cbf1568b86a3"
      },
      "execution_count": 5,
      "outputs": [
        {
          "output_type": "stream",
          "name": "stdout",
          "text": [
            "Toyota Camry 2020 года\n",
            "Автомобиль заводится с ключа\n",
            "Автомобиль останавливается\n",
            "\n",
            "Tesla Model S 2022 года\n",
            "Электромобиль включается кнопкой\n",
            "Электромобиль останавливается с рекуперацией энергии\n",
            "\n"
          ]
        }
      ]
    },
    {
      "cell_type": "code",
      "source": [
        "from abc import ABC, abstractmethod\n",
        "\n",
        "# Абстрактный класс (Абстракция)\n",
        "class Employee(ABC):\n",
        "    def __init__(self, name, employee_id):\n",
        "        self._name = name  # Инкапсуляция (защищенный атрибут)\n",
        "        self.__employee_id = employee_id  # Инкапсуляция (приватный атрибут)\n",
        "\n",
        "    @abstractmethod\n",
        "    def calculate_salary(self):\n",
        "        pass\n",
        "\n",
        "    def get_info(self):\n",
        "        return f\"ID: {self.__employee_id}, Имя: {self._name}\"\n",
        "\n",
        "    def get_employee_id(self):\n",
        "        return self.__employee_id\n",
        "\n",
        "# Наследование\n",
        "class FullTimeEmployee(Employee):\n",
        "    def __init__(self, name, employee_id, monthly_salary):\n",
        "        super().__init__(name, employee_id)\n",
        "        self.__monthly_salary = monthly_salary\n",
        "\n",
        "    # Полиморфизм (разная реализация для разных типов сотрудников)\n",
        "    def calculate_salary(self):\n",
        "        return self.__monthly_salary\n",
        "\n",
        "class PartTimeEmployee(Employee):\n",
        "    def __init__(self, name, employee_id, hours_worked, hourly_rate):\n",
        "        super().__init__(name, employee_id)\n",
        "        self.__hours_worked = hours_worked\n",
        "        self.__hourly_rate = hourly_rate\n",
        "\n",
        "    # Полиморфизм\n",
        "    def calculate_salary(self):\n",
        "        return self.__hours_worked * self.__hourly_rate\n",
        "\n",
        "# Использование\n",
        "employees = [\n",
        "    FullTimeEmployee(\"Иван Петров\", \"FT001\", 50000),\n",
        "    PartTimeEmployee(\"Мария Сидорова\", \"PT001\", 80, 800)\n",
        "]\n",
        "\n",
        "for employee in employees:\n",
        "    print(employee.get_info())\n",
        "    print(f\"Зарплата: {employee.calculate_salary()} руб.\")\n",
        "    print()  # пустая строка для разделения"
      ],
      "metadata": {
        "colab": {
          "base_uri": "https://localhost:8080/"
        },
        "id": "VjHyc-SpVBcw",
        "outputId": "b946fc06-6462-4b23-b45b-d250e3f42d35"
      },
      "execution_count": 6,
      "outputs": [
        {
          "output_type": "stream",
          "name": "stdout",
          "text": [
            "ID: FT001, Имя: Иван Петров\n",
            "Зарплата: 50000 руб.\n",
            "\n",
            "ID: PT001, Имя: Мария Сидорова\n",
            "Зарплата: 64000 руб.\n",
            "\n"
          ]
        }
      ]
    }
  ]
}