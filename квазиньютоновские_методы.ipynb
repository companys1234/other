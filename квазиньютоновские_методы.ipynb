{
  "nbformat": 4,
  "nbformat_minor": 0,
  "metadata": {
    "colab": {
      "provenance": []
    },
    "kernelspec": {
      "name": "python3",
      "display_name": "Python 3"
    },
    "language_info": {
      "name": "python"
    }
  },
  "cells": [
    {
      "cell_type": "markdown",
      "source": [
        "L-BFGS"
      ],
      "metadata": {
        "id": "qgTkH5EowCSK"
      }
    },
    {
      "cell_type": "code",
      "source": [
        "def grad_rosenbrock(x):\n",
        "    \"\"\"Градиент функции Розенброка\"\"\"\n",
        "    return np.array([\n",
        "        -400 * x[0] * (x[1] - x[0]**2) - 2 * (1 - x[0]),\n",
        "        200 * (x[1] - x[0]**2)\n",
        "    ])"
      ],
      "metadata": {
        "id": "he-WHb9EwpyT"
      },
      "execution_count": 4,
      "outputs": []
    },
    {
      "cell_type": "code",
      "execution_count": 5,
      "metadata": {
        "colab": {
          "base_uri": "https://localhost:8080/"
        },
        "id": "AZoAKjvrvDfk",
        "outputId": "c66e4d58-70b1-4641-a7bd-da442a9d5403"
      },
      "outputs": [
        {
          "output_type": "stream",
          "name": "stdout",
          "text": [
            "[0.99999932 0.99999863]\n"
          ]
        }
      ],
      "source": [
        "from scipy.optimize import minimize\n",
        "import numpy as np\n",
        "def rosenbrock(x):\n",
        "    \"\"\"Функция Розенброка - тестовая функция для оптимизации\"\"\"\n",
        "    return 100 * (x[1] - x[0]**2)**2 + (1 - x[0])**2\n",
        "x0 = np.array([-1.5, 1.5])\n",
        "result = minimize(rosenbrock, x0, method='L-BFGS-B', jac=grad_rosenbrock)\n",
        "print(result.x)  # [1. 1.]"
      ]
    },
    {
      "cell_type": "markdown",
      "source": [
        "DFP (Davidon–Fletcher–Powell)"
      ],
      "metadata": {
        "id": "4Ss0JTvZwRNN"
      }
    },
    {
      "cell_type": "code",
      "source": [
        "import numpy as np\n",
        "from scipy.optimize import line_search\n",
        "\n",
        "def dfp(f, grad_f, x0, max_iter=100, tol=1e-6):\n",
        "    \"\"\"\n",
        "    Реализация метода DFP.\n",
        "\n",
        "    Параметры:\n",
        "    f - целевая функция\n",
        "    grad_f - функция градиента\n",
        "    x0 - начальная точка\n",
        "    max_iter - максимальное число итераций\n",
        "    tol - критерий остановки\n",
        "    \"\"\"\n",
        "    n = len(x0)\n",
        "    H = np.eye(n)  # Начальная аппроксимация обратного Гессиана\n",
        "    x = x0.copy()\n",
        "    grad = grad_f(x)\n",
        "    history = {'x': [], 'f': [], 'grad_norm': []}\n",
        "\n",
        "    for k in range(max_iter):\n",
        "        history['x'].append(x.copy())\n",
        "        history['f'].append(f(x))\n",
        "        history['grad_norm'].append(np.linalg.norm(grad))\n",
        "\n",
        "        # Критерий остановки\n",
        "        if np.linalg.norm(grad) < tol:\n",
        "            break\n",
        "\n",
        "        # Направление спуска\n",
        "        p = -H.dot(grad)\n",
        "\n",
        "        # Линейный поиск шага\n",
        "        alpha, _, _, new_f, new_grad, _ = line_search(f, grad_f, x, p, grad)\n",
        "        if alpha is None:\n",
        "            alpha = 0.1  # Fallback\n",
        "\n",
        "        # Обновление точки\n",
        "        s = alpha * p\n",
        "        x_new = x + s\n",
        "        y = new_grad - grad\n",
        "\n",
        "        # Обновление матрицы H по формуле DFP\n",
        "        Hy = H.dot(y)\n",
        "        H = H + np.outer(s, s) / s.dot(y) - np.outer(Hy, Hy) / y.dot(Hy)\n",
        "\n",
        "        x = x_new\n",
        "        grad = new_grad\n",
        "\n",
        "    return x, history\n",
        "\n",
        "# Пример: Оптимизация функции Розенброка\n",
        "def rosenbrock(x):\n",
        "    return 100 * (x[1] - x[0]**2)**2 + (1 - x[0])**2\n",
        "\n",
        "def grad_rosenbrock(x):\n",
        "    return np.array([\n",
        "        -400 * x[0] * (x[1] - x[0]**2) - 2 * (1 - x[0]),\n",
        "        200 * (x[1] - x[0]**2)\n",
        "    ])\n",
        "\n",
        "x0 = np.array([-1.5, 1.5])\n",
        "x_opt, history = dfp(rosenbrock, grad_rosenbrock, x0)\n",
        "\n",
        "print(f\"Найденный минимум: {x_opt}\")\n",
        "print(f\"Значение функции: {rosenbrock(x_opt)}\")"
      ],
      "metadata": {
        "colab": {
          "base_uri": "https://localhost:8080/",
          "height": 356
        },
        "id": "hGVcUltTwUFz",
        "outputId": "e7385e2e-ef03-4147-fc15-2ab6a9657a1d"
      },
      "execution_count": 6,
      "outputs": [
        {
          "output_type": "error",
          "ename": "ValueError",
          "evalue": "The truth value of an array with more than one element is ambiguous. Use a.any() or a.all()",
          "traceback": [
            "\u001b[0;31m---------------------------------------------------------------------------\u001b[0m",
            "\u001b[0;31mValueError\u001b[0m                                Traceback (most recent call last)",
            "\u001b[0;32m/tmp/ipython-input-6-3826487689.py\u001b[0m in \u001b[0;36m<cell line: 0>\u001b[0;34m()\u001b[0m\n\u001b[1;32m     61\u001b[0m \u001b[0;34m\u001b[0m\u001b[0m\n\u001b[1;32m     62\u001b[0m \u001b[0mx0\u001b[0m \u001b[0;34m=\u001b[0m \u001b[0mnp\u001b[0m\u001b[0;34m.\u001b[0m\u001b[0marray\u001b[0m\u001b[0;34m(\u001b[0m\u001b[0;34m[\u001b[0m\u001b[0;34m-\u001b[0m\u001b[0;36m1.5\u001b[0m\u001b[0;34m,\u001b[0m \u001b[0;36m1.5\u001b[0m\u001b[0;34m]\u001b[0m\u001b[0;34m)\u001b[0m\u001b[0;34m\u001b[0m\u001b[0;34m\u001b[0m\u001b[0m\n\u001b[0;32m---> 63\u001b[0;31m \u001b[0mx_opt\u001b[0m\u001b[0;34m,\u001b[0m \u001b[0mhistory\u001b[0m \u001b[0;34m=\u001b[0m \u001b[0mdfp\u001b[0m\u001b[0;34m(\u001b[0m\u001b[0mrosenbrock\u001b[0m\u001b[0;34m,\u001b[0m \u001b[0mgrad_rosenbrock\u001b[0m\u001b[0;34m,\u001b[0m \u001b[0mx0\u001b[0m\u001b[0;34m)\u001b[0m\u001b[0;34m\u001b[0m\u001b[0;34m\u001b[0m\u001b[0m\n\u001b[0m\u001b[1;32m     64\u001b[0m \u001b[0;34m\u001b[0m\u001b[0m\n\u001b[1;32m     65\u001b[0m \u001b[0mprint\u001b[0m\u001b[0;34m(\u001b[0m\u001b[0;34mf\"Найденный минимум: {x_opt}\"\u001b[0m\u001b[0;34m)\u001b[0m\u001b[0;34m\u001b[0m\u001b[0;34m\u001b[0m\u001b[0m\n",
            "\u001b[0;32m/tmp/ipython-input-6-3826487689.py\u001b[0m in \u001b[0;36mdfp\u001b[0;34m(f, grad_f, x0, max_iter, tol)\u001b[0m\n\u001b[1;32m     32\u001b[0m \u001b[0;34m\u001b[0m\u001b[0m\n\u001b[1;32m     33\u001b[0m         \u001b[0;31m# Линейный поиск шага\u001b[0m\u001b[0;34m\u001b[0m\u001b[0;34m\u001b[0m\u001b[0m\n\u001b[0;32m---> 34\u001b[0;31m         \u001b[0malpha\u001b[0m\u001b[0;34m,\u001b[0m \u001b[0m_\u001b[0m\u001b[0;34m,\u001b[0m \u001b[0m_\u001b[0m\u001b[0;34m,\u001b[0m \u001b[0mnew_f\u001b[0m\u001b[0;34m,\u001b[0m \u001b[0mnew_grad\u001b[0m\u001b[0;34m,\u001b[0m \u001b[0m_\u001b[0m \u001b[0;34m=\u001b[0m \u001b[0mline_search\u001b[0m\u001b[0;34m(\u001b[0m\u001b[0mf\u001b[0m\u001b[0;34m,\u001b[0m \u001b[0mgrad_f\u001b[0m\u001b[0;34m,\u001b[0m \u001b[0mx\u001b[0m\u001b[0;34m,\u001b[0m \u001b[0mp\u001b[0m\u001b[0;34m,\u001b[0m \u001b[0mgrad\u001b[0m\u001b[0;34m)\u001b[0m\u001b[0;34m\u001b[0m\u001b[0;34m\u001b[0m\u001b[0m\n\u001b[0m\u001b[1;32m     35\u001b[0m         \u001b[0;32mif\u001b[0m \u001b[0malpha\u001b[0m \u001b[0;32mis\u001b[0m \u001b[0;32mNone\u001b[0m\u001b[0;34m:\u001b[0m\u001b[0;34m\u001b[0m\u001b[0;34m\u001b[0m\u001b[0m\n\u001b[1;32m     36\u001b[0m             \u001b[0malpha\u001b[0m \u001b[0;34m=\u001b[0m \u001b[0;36m0.1\u001b[0m  \u001b[0;31m# Fallback\u001b[0m\u001b[0;34m\u001b[0m\u001b[0;34m\u001b[0m\u001b[0m\n",
            "\u001b[0;32m/usr/local/lib/python3.11/dist-packages/scipy/optimize/_linesearch.py\u001b[0m in \u001b[0;36mline_search_wolfe2\u001b[0;34m(f, myfprime, xk, pk, gfk, old_fval, old_old_fval, args, c1, c2, amax, extra_condition, maxiter)\u001b[0m\n\u001b[1;32m    310\u001b[0m         \u001b[0mextra_condition2\u001b[0m \u001b[0;34m=\u001b[0m \u001b[0;32mNone\u001b[0m\u001b[0;34m\u001b[0m\u001b[0;34m\u001b[0m\u001b[0m\n\u001b[1;32m    311\u001b[0m \u001b[0;34m\u001b[0m\u001b[0m\n\u001b[0;32m--> 312\u001b[0;31m     alpha_star, phi_star, old_fval, derphi_star = scalar_search_wolfe2(\n\u001b[0m\u001b[1;32m    313\u001b[0m             \u001b[0mphi\u001b[0m\u001b[0;34m,\u001b[0m \u001b[0mderphi\u001b[0m\u001b[0;34m,\u001b[0m \u001b[0mold_fval\u001b[0m\u001b[0;34m,\u001b[0m \u001b[0mold_old_fval\u001b[0m\u001b[0;34m,\u001b[0m \u001b[0mderphi0\u001b[0m\u001b[0;34m,\u001b[0m \u001b[0mc1\u001b[0m\u001b[0;34m,\u001b[0m \u001b[0mc2\u001b[0m\u001b[0;34m,\u001b[0m \u001b[0mamax\u001b[0m\u001b[0;34m,\u001b[0m\u001b[0;34m\u001b[0m\u001b[0;34m\u001b[0m\u001b[0m\n\u001b[1;32m    314\u001b[0m             extra_condition2, maxiter=maxiter)\n",
            "\u001b[0;32m/usr/local/lib/python3.11/dist-packages/scipy/optimize/_linesearch.py\u001b[0m in \u001b[0;36mscalar_search_wolfe2\u001b[0;34m(phi, derphi, phi0, old_phi0, derphi0, c1, c2, amax, extra_condition, maxiter)\u001b[0m\n\u001b[1;32m    432\u001b[0m \u001b[0;34m\u001b[0m\u001b[0m\n\u001b[1;32m    433\u001b[0m         \u001b[0mnot_first_iteration\u001b[0m \u001b[0;34m=\u001b[0m \u001b[0mi\u001b[0m \u001b[0;34m>\u001b[0m \u001b[0;36m0\u001b[0m\u001b[0;34m\u001b[0m\u001b[0;34m\u001b[0m\u001b[0m\n\u001b[0;32m--> 434\u001b[0;31m         \u001b[0;32mif\u001b[0m \u001b[0;34m(\u001b[0m\u001b[0mphi_a1\u001b[0m \u001b[0;34m>\u001b[0m \u001b[0mphi0\u001b[0m \u001b[0;34m+\u001b[0m \u001b[0mc1\u001b[0m \u001b[0;34m*\u001b[0m \u001b[0malpha1\u001b[0m \u001b[0;34m*\u001b[0m \u001b[0mderphi0\u001b[0m\u001b[0;34m)\u001b[0m \u001b[0;32mor\u001b[0m\u001b[0;31m \u001b[0m\u001b[0;31m\\\u001b[0m\u001b[0;34m\u001b[0m\u001b[0;34m\u001b[0m\u001b[0m\n\u001b[0m\u001b[1;32m    435\u001b[0m            \u001b[0;34m(\u001b[0m\u001b[0;34m(\u001b[0m\u001b[0mphi_a1\u001b[0m \u001b[0;34m>=\u001b[0m \u001b[0mphi_a0\u001b[0m\u001b[0;34m)\u001b[0m \u001b[0;32mand\u001b[0m \u001b[0mnot_first_iteration\u001b[0m\u001b[0;34m)\u001b[0m\u001b[0;34m:\u001b[0m\u001b[0;34m\u001b[0m\u001b[0;34m\u001b[0m\u001b[0m\n\u001b[1;32m    436\u001b[0m             \u001b[0malpha_star\u001b[0m\u001b[0;34m,\u001b[0m \u001b[0mphi_star\u001b[0m\u001b[0;34m,\u001b[0m \u001b[0mderphi_star\u001b[0m \u001b[0;34m=\u001b[0m\u001b[0;31m \u001b[0m\u001b[0;31m\\\u001b[0m\u001b[0;34m\u001b[0m\u001b[0;34m\u001b[0m\u001b[0m\n",
            "\u001b[0;31mValueError\u001b[0m: The truth value of an array with more than one element is ambiguous. Use a.any() or a.all()"
          ]
        }
      ]
    },
    {
      "cell_type": "code",
      "source": [
        "import matplotlib.pyplot as plt\n",
        "\n",
        "plt.plot(history['f'], 'b-o')\n",
        "plt.yscale('log')\n",
        "plt.xlabel('Итерация')\n",
        "plt.ylabel('Значение функции')\n",
        "plt.title('Сходимость метода DFP')\n",
        "plt.grid()\n",
        "plt.show()"
      ],
      "metadata": {
        "colab": {
          "base_uri": "https://localhost:8080/",
          "height": 211
        },
        "id": "wF_70QWrx7iB",
        "outputId": "366abe9d-5ef8-4042-9106-f0a08ec48e3b"
      },
      "execution_count": 7,
      "outputs": [
        {
          "output_type": "error",
          "ename": "NameError",
          "evalue": "name 'history' is not defined",
          "traceback": [
            "\u001b[0;31m---------------------------------------------------------------------------\u001b[0m",
            "\u001b[0;31mNameError\u001b[0m                                 Traceback (most recent call last)",
            "\u001b[0;32m/tmp/ipython-input-7-4039096008.py\u001b[0m in \u001b[0;36m<cell line: 0>\u001b[0;34m()\u001b[0m\n\u001b[1;32m      1\u001b[0m \u001b[0;32mimport\u001b[0m \u001b[0mmatplotlib\u001b[0m\u001b[0;34m.\u001b[0m\u001b[0mpyplot\u001b[0m \u001b[0;32mas\u001b[0m \u001b[0mplt\u001b[0m\u001b[0;34m\u001b[0m\u001b[0;34m\u001b[0m\u001b[0m\n\u001b[1;32m      2\u001b[0m \u001b[0;34m\u001b[0m\u001b[0m\n\u001b[0;32m----> 3\u001b[0;31m \u001b[0mplt\u001b[0m\u001b[0;34m.\u001b[0m\u001b[0mplot\u001b[0m\u001b[0;34m(\u001b[0m\u001b[0mhistory\u001b[0m\u001b[0;34m[\u001b[0m\u001b[0;34m'f'\u001b[0m\u001b[0;34m]\u001b[0m\u001b[0;34m,\u001b[0m \u001b[0;34m'b-o'\u001b[0m\u001b[0;34m)\u001b[0m\u001b[0;34m\u001b[0m\u001b[0;34m\u001b[0m\u001b[0m\n\u001b[0m\u001b[1;32m      4\u001b[0m \u001b[0mplt\u001b[0m\u001b[0;34m.\u001b[0m\u001b[0myscale\u001b[0m\u001b[0;34m(\u001b[0m\u001b[0;34m'log'\u001b[0m\u001b[0;34m)\u001b[0m\u001b[0;34m\u001b[0m\u001b[0;34m\u001b[0m\u001b[0m\n\u001b[1;32m      5\u001b[0m \u001b[0mplt\u001b[0m\u001b[0;34m.\u001b[0m\u001b[0mxlabel\u001b[0m\u001b[0;34m(\u001b[0m\u001b[0;34m'Итерация'\u001b[0m\u001b[0;34m)\u001b[0m\u001b[0;34m\u001b[0m\u001b[0;34m\u001b[0m\u001b[0m\n",
            "\u001b[0;31mNameError\u001b[0m: name 'history' is not defined"
          ]
        }
      ]
    }
  ]
}